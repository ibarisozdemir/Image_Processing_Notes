{
 "cells": [
  {
   "cell_type": "code",
   "execution_count": 2,
   "id": "ec1aa105-9a8f-4335-9b66-55ddf86ddde1",
   "metadata": {},
   "outputs": [],
   "source": [
    "import cv2\n",
    "import numpy as np"
   ]
  },
  {
   "cell_type": "code",
   "execution_count": 4,
   "id": "1f25fa3d-8178-4240-b629-85d7dc2ec005",
   "metadata": {},
   "outputs": [
    {
     "data": {
      "text/plain": [
       "(413, 735, 3)"
      ]
     },
     "execution_count": 4,
     "metadata": {},
     "output_type": "execute_result"
    }
   ],
   "source": [
    "my_img =cv2.imread(\"./itac.jpg\",1)\n",
    "my_img.shape"
   ]
  },
  {
   "cell_type": "code",
   "execution_count": 21,
   "id": "2391332e-0884-4974-8f1d-5b3faa07af15",
   "metadata": {},
   "outputs": [],
   "source": [
    "cv2.imshow(\"Orginal Images\",my_img)\n",
    "cv2.waitKey(0)\n",
    "cv2.destroyAllWindows()"
   ]
  },
  {
   "cell_type": "code",
   "execution_count": 12,
   "id": "b4585d68-8c30-490e-9860-0a8499e9346f",
   "metadata": {},
   "outputs": [],
   "source": [
    "vertical_img =cv2.flip(my_img,0)\n",
    "horizontal_img =cv2.flip(my_img,1)\n",
    "both_img =cv2.flip(my_img,-1)"
   ]
  },
  {
   "cell_type": "code",
   "execution_count": 43,
   "id": "045c1ce7-9cc0-4b02-817a-96cc302c4d8b",
   "metadata": {},
   "outputs": [],
   "source": [
    "cv2.imshow(\"Orginal Images\",my_img)\n",
    "cv2.imshow(\"vertical image\",vertical_img)\n",
    "cv2.imshow(\"horizontal image\",horizontal_img)\n",
    "cv2.imshow(\"both image\",both_img)\n",
    "cv2.waitKey(0)\n",
    "cv2.destroyAllWindows()"
   ]
  },
  {
   "cell_type": "code",
   "execution_count": 33,
   "id": "9e0a2e33-87bd-461d-b486-1b0306ee45db",
   "metadata": {},
   "outputs": [
    {
     "data": {
      "text/plain": [
       "array([[[ 1,  0],\n",
       "        [ 0,  0],\n",
       "        [ 0,  0],\n",
       "        ...,\n",
       "        [ 0,  6],\n",
       "        [ 1,  3],\n",
       "        [ 2,  2]],\n",
       "\n",
       "       [[ 1,  0],\n",
       "        [ 0,  0],\n",
       "        [ 0,  0],\n",
       "        ...,\n",
       "        [ 0,  6],\n",
       "        [ 1,  3],\n",
       "        [ 2,  2]],\n",
       "\n",
       "       [[ 0,  0],\n",
       "        [ 0,  0],\n",
       "        [ 0,  0],\n",
       "        ...,\n",
       "        [ 0,  8],\n",
       "        [ 1,  5],\n",
       "        [ 2,  3]],\n",
       "\n",
       "       ...,\n",
       "\n",
       "       [[ 0, 12],\n",
       "        [ 0, 14],\n",
       "        [ 0, 17],\n",
       "        ...,\n",
       "        [ 0, 35],\n",
       "        [ 0, 30],\n",
       "        [ 0, 27]],\n",
       "\n",
       "       [[ 0,  9],\n",
       "        [ 0, 11],\n",
       "        [ 0, 13],\n",
       "        ...,\n",
       "        [ 0, 51],\n",
       "        [ 0, 36],\n",
       "        [ 0, 28]],\n",
       "\n",
       "       [[ 4,  0],\n",
       "        [ 4,  0],\n",
       "        [ 3,  3],\n",
       "        ...,\n",
       "        [ 6, 77],\n",
       "        [ 0, 49],\n",
       "        [ 0, 32]]], dtype=uint8)"
      ]
     },
     "execution_count": 33,
     "metadata": {},
     "output_type": "execute_result"
    }
   ],
   "source": [
    "my_img[:,1:,1:]"
   ]
  },
  {
   "cell_type": "code",
   "execution_count": 35,
   "id": "9e14b96e-ce81-459a-8b31-d1669739b834",
   "metadata": {},
   "outputs": [
    {
     "data": {
      "text/plain": [
       "numpy.ndarray"
      ]
     },
     "execution_count": 35,
     "metadata": {},
     "output_type": "execute_result"
    }
   ],
   "source": [
    "type(my_img)"
   ]
  },
  {
   "cell_type": "code",
   "execution_count": 37,
   "id": "e694b59b-96eb-471b-9b4c-c7ae8f3315c7",
   "metadata": {},
   "outputs": [],
   "source": [
    "new_vertical_img = my_img[::-1,:,:]\n",
    "new_horizontal_img = my_img[:,::-1,:]\n",
    "new_both_img = my_img[::-1,::-1,:]"
   ]
  },
  {
   "cell_type": "code",
   "execution_count": 53,
   "id": "865ce62a-3b8d-4ea8-aab9-fa8ab8d3afce",
   "metadata": {},
   "outputs": [],
   "source": [
    "cv2.imshow(\"Orginal Images\",my_img)\n",
    "cv2.imshow(\"New vertical image\",new_vertical_img)\n",
    "cv2.imshow(\"New horizontal image\",new_horizontal_img)\n",
    "cv2.imshow(\"New both image\",new_both_img)\n",
    "cv2.waitKey(0)\n",
    "cv2.destroyAllWindows()"
   ]
  },
  {
   "cell_type": "code",
   "execution_count": 66,
   "id": "ed57a86c-8462-49d3-989a-c1df40a4a451",
   "metadata": {},
   "outputs": [],
   "source": [
    "my_rezied_img = cv2.resize(my_img,(350,200),cv2.INTER_LANCZOS4)\n",
    "my_rezied_img2 = cv2.resize(my_img,(900,550),cv2.INTER_LANCZOS4)"
   ]
  },
  {
   "cell_type": "code",
   "execution_count": 69,
   "id": "dabb5dbb-022e-4931-af71-e75714bb1eb5",
   "metadata": {},
   "outputs": [],
   "source": [
    "cv2.imshow(\"Orginal Images\",my_img)\n",
    "cv2.imshow(\"Rezized- Image\",my_rezied_img)\n",
    "cv2.imshow(\"Rezized+ Image\",my_rezied_img2)\n",
    "cv2.waitKey(0)\n",
    "cv2.destroyAllWindows()"
   ]
  },
  {
   "cell_type": "code",
   "execution_count": 73,
   "id": "05b29d9f-e757-4ee5-8dcb-b80cc1b8e121",
   "metadata": {},
   "outputs": [
    {
     "data": {
      "text/plain": [
       "True"
      ]
     },
     "execution_count": 73,
     "metadata": {},
     "output_type": "execute_result"
    }
   ],
   "source": [
    "cv2.imwrite(\"./my_rezied.png\",my_rezied_img)\n",
    "cv2.imwrite(\"./my_rezied2.png\",my_rezied_img2)"
   ]
  },
  {
   "cell_type": "code",
   "execution_count": null,
   "id": "3c5b1291-7b01-4843-9a61-c3e449579b39",
   "metadata": {},
   "outputs": [],
   "source": []
  }
 ],
 "metadata": {
  "kernelspec": {
   "display_name": "env_ybs",
   "language": "python",
   "name": "env_ybs"
  },
  "language_info": {
   "codemirror_mode": {
    "name": "ipython",
    "version": 3
   },
   "file_extension": ".py",
   "mimetype": "text/x-python",
   "name": "python",
   "nbconvert_exporter": "python",
   "pygments_lexer": "ipython3",
   "version": "3.10.10"
  }
 },
 "nbformat": 4,
 "nbformat_minor": 5
}
