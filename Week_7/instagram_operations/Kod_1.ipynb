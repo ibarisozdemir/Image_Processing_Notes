{
 "cells": [
  {
   "cell_type": "code",
   "execution_count": 2,
   "id": "d2fe8f02",
   "metadata": {},
   "outputs": [],
   "source": [
    "import requests\n",
    "import instaloader"
   ]
  },
  {
   "cell_type": "code",
   "execution_count": null,
   "id": "fa8d29df",
   "metadata": {},
   "outputs": [],
   "source": []
  },
  {
   "cell_type": "code",
   "execution_count": 4,
   "id": "d76961a0",
   "metadata": {},
   "outputs": [
    {
     "name": "stdout",
     "output_type": "stream",
     "text": [
      "Profil fotoğrafı başarıyla indirildi.\n"
     ]
    }
   ],
   "source": [
    "#Kullanıcı adı girilen kişinin profil fotoğrafını indirme\n",
    "\n",
    "my_name = \"ahmetyusuf474\"\n",
    "my_pass = \"Deneme_2121\"\n",
    "\n",
    "def download_profile_pic(username, my_name, my_pass):\n",
    "    loader = instaloader.Instaloader()\n",
    "    \n",
    "    try:\n",
    "        loader.login(my_name, my_pass)\n",
    "        profile = instaloader.Profile.from_username(loader.context, username)\n",
    "        \n",
    "        profile_pic_url = profile.profile_pic_url\n",
    "        \n",
    "        response = requests.get(profile_pic_url)\n",
    "        \n",
    "        with open(f\"{username}_profile_pic.jpg\", \"wb\") as f:\n",
    "            f.write(response.content)\n",
    "        \n",
    "        print(\"Profil fotoğrafı başarıyla indirildi.\")\n",
    "    \n",
    "    except Exception as e:\n",
    "        print(f\"Hata: {e}\")\n",
    "\n",
    "username = \"yasemin.kkaya\"\n",
    "download_profile_pic(username,my_name,my_pass)"
   ]
  },
  {
   "cell_type": "code",
   "execution_count": null,
   "id": "51783e13",
   "metadata": {},
   "outputs": [],
   "source": [
    "#Kullanıcı adı girilen kişinin profilindeki gönderi sayısı, takipçi sayısı ve takip edilen sayısını getiren kod\n",
    "\n",
    "def get_user_info(username):\n",
    "    loader = instaloader.Instaloader()\n",
    "\n",
    "    try:\n",
    "        #loader.login(login_user, login_pass)\n",
    "        profile = instaloader.Profile.from_username(loader.context, username)\n",
    "        \n",
    "        num_posts = profile.mediacount\n",
    "        \n",
    "        num_followees = profile.followees\n",
    "        \n",
    "        num_followers = profile.followers\n",
    "        \n",
    "        print(f\"Gönderi Sayısı: {num_posts}\")\n",
    "        print(f\"Takip Ettiği Kişi Sayısı: {num_followees}\")\n",
    "        print(f\"Takipçi Sayısı: {num_followers}\")\n",
    "\n",
    "    except Exception as e:\n",
    "        print(f\"Hata: {e}\")\n",
    "\n",
    "\n",
    "my_user = \"ahmetyusuf474\"\n",
    "get_user_info(username)"
   ]
  },
  {
   "cell_type": "code",
   "execution_count": null,
   "id": "19c3264c",
   "metadata": {},
   "outputs": [],
   "source": [
    "#Kullanıcı adı girilen kişinin profilinin gizli olup olmadığını kontrol eden kod\n",
    "\n",
    "def check_privacy(username):\n",
    "    loader = instaloader.Instaloader()\n",
    "\n",
    "    try:\n",
    "        profile = instaloader.Profile.from_username(loader.context, username)\n",
    "        \n",
    "        if profile.is_private:\n",
    "            print(\"Bu hesap gizlidir.\")\n",
    "        else:\n",
    "            print(\"Bu hesap gizli değildir.\")\n",
    "\n",
    "    except Exception as e:\n",
    "        print(f\"Hata: {e}\")\n",
    "\n",
    "username = \"kullanıcı adını buraya giriniz\"\n",
    "check_privacy(username)"
   ]
  },
  {
   "cell_type": "code",
   "execution_count": null,
   "id": "23e94ef4",
   "metadata": {},
   "outputs": [],
   "source": [
    "def download_all_posts(username):\n",
    "    loader = instaloader.Instaloader()\n",
    "\n",
    "    try:\n",
    "        profile = instaloader.Profile.from_username(loader.context, username)\n",
    "        \n",
    "        for post in profile.get_posts():\n",
    "            # kullanıcının sadece fotosunu indirsin bilgilerini indirmesin istiyorsanız eğer\n",
    "            #loader.download_post(post, target=username, download_comments=False)\n",
    "            loader.download_post(post, target=username)\n",
    "\n",
    "        print(\"Tüm gönderiler başarıyla indirildi.\")\n",
    "\n",
    "    except Exception as e:\n",
    "        print(f\"Hata: {e}\")\n",
    "\n",
    "username = \"kullanıcı adını buraya giriniz\"\n",
    "download_all_posts(username)"
   ]
  },
  {
   "cell_type": "code",
   "execution_count": null,
   "id": "fe88488a",
   "metadata": {},
   "outputs": [],
   "source": [
    "def get_user_info(username, login_user, login_pass):\n",
    "    \n",
    "    loader = instaloader.Instaloader()\n",
    "\n",
    "    try:\n",
    "        loader.login(login_user, login_pass)\n",
    "        \n",
    "        profile = instaloader.Profile.from_username(loader.context, username)\n",
    "        \n",
    "        num_posts = profile.mediacount\n",
    "        \n",
    "        num_followees = profile.followees\n",
    "        \n",
    "        num_followers = profile.followers\n",
    "        \n",
    "        followees = [followee.username for followee in profile.get_followees()]\n",
    "        \n",
    "        print(f\"Gönderi Sayısı: {num_posts}\")\n",
    "        print(f\"Takip Ettiği Kişi Sayısı: {num_followees}\")\n",
    "        print(f\"Takipçi Sayısı: {num_followers}\")\n",
    "        print(f\"Takip Ettiği Kişiler: {', '.join(followees)}\")\n",
    "\n",
    "    except Exception as e:\n",
    "        print(f\"Hata: {e}\")\n",
    "\n",
    "username = \"\" # Bilgilerini öğreneceğiniz kişinin instagram kullanıcı adı\n",
    "login_user = \"\"  # Giriş yapacağınız Instagram kullanıcı adını buraya yazın\n",
    "login_pass = \"\"  # Giriş yapacağınız Instagram şifresini buraya yazın\n",
    "\n",
    "get_user_info(username, login_user, login_pass)\n"
   ]
  },
  {
   "cell_type": "code",
   "execution_count": null,
   "id": "274ac6fb",
   "metadata": {},
   "outputs": [],
   "source": []
  }
 ],
 "metadata": {
  "kernelspec": {
   "display_name": "env_ybs_3_new",
   "language": "python",
   "name": "env_ybs_3_new"
  },
  "language_info": {
   "codemirror_mode": {
    "name": "ipython",
    "version": 3
   },
   "file_extension": ".py",
   "mimetype": "text/x-python",
   "name": "python",
   "nbconvert_exporter": "python",
   "pygments_lexer": "ipython3",
   "version": "3.10.10"
  }
 },
 "nbformat": 4,
 "nbformat_minor": 5
}
