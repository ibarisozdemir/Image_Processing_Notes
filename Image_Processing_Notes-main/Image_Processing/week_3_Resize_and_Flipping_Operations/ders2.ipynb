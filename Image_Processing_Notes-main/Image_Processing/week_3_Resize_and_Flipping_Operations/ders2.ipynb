{
 "cells": [
  {
   "cell_type": "code",
   "execution_count": 3,
   "id": "5cb87f0f-1a33-4469-b24e-2f210609368d",
   "metadata": {},
   "outputs": [],
   "source": [
    "import cv2\n",
    "import numpy as np"
   ]
  },
  {
   "cell_type": "code",
   "execution_count": 5,
   "id": "a6823912-44fc-49a2-ba71-50d72e048825",
   "metadata": {},
   "outputs": [
    {
     "data": {
      "text/plain": [
       "(445, 800, 3)"
      ]
     },
     "execution_count": 5,
     "metadata": {},
     "output_type": "execute_result"
    }
   ],
   "source": [
    "my_img=cv2.imread(\"./resim.jpg\",1)\n",
    "my_img.shape"
   ]
  },
  {
   "cell_type": "code",
   "execution_count": 7,
   "id": "eac717b1-1b17-464b-b94e-829b6431bb70",
   "metadata": {},
   "outputs": [],
   "source": [
    "cv2.imshow(\"RGB Image\",my_img)\n",
    "cv2.waitKey(0)\n",
    "cv2.destroyAllWindows()"
   ]
  },
  {
   "cell_type": "code",
   "execution_count": 35,
   "id": "14103d89-620c-4734-a7c7-ae8be8f7adb6",
   "metadata": {},
   "outputs": [],
   "source": [
    "vertical_img=cv2.flip(my_img,0)\n",
    "horizontal_img=cv2.flip(my_img,1)\n",
    "both_img=cv2.flip(my_img,-1)"
   ]
  },
  {
   "cell_type": "code",
   "execution_count": 9,
   "id": "d9b4784c-6c47-47b4-a069-bb768bfbf504",
   "metadata": {},
   "outputs": [],
   "source": [
    "cv2.imshow(\"Orginal Image\",my_img)\n",
    "cv2.imshow(\"Vertical Image\",vertical_img)\n",
    "cv2.imshow(\"Horizontal Image\",horizontal_img)\n",
    "cv2.imshow(\"Vertical an Horizontal Image\",both_img)\n",
    "cv2.waitKey(0)\n",
    "cv2.destroyAllWindows()"
   ]
  },
  {
   "cell_type": "code",
   "execution_count": 13,
   "id": "5e1e1738-ecd7-4f88-a376-c39ba5b83ef0",
   "metadata": {},
   "outputs": [
    {
     "data": {
      "text/plain": [
       "numpy.ndarray"
      ]
     },
     "execution_count": 13,
     "metadata": {},
     "output_type": "execute_result"
    }
   ],
   "source": [
    "type(my_img)"
   ]
  },
  {
   "cell_type": "code",
   "execution_count": null,
   "id": "bff6a95d-bb6e-4806-ab70-be1c88d80224",
   "metadata": {},
   "outputs": [],
   "source": []
  },
  {
   "cell_type": "code",
   "execution_count": 17,
   "id": "bfbb1963-0223-4f87-8e4e-250093b1da6d",
   "metadata": {},
   "outputs": [],
   "source": [
    "new_vertical_img=my_img[::-1,:,:]\n",
    "\n",
    "new_horizontal_img=my_img[:,::-1,:]\n",
    "\n",
    "new_both_img=my_img[::-1,::-1,:]"
   ]
  },
  {
   "cell_type": "code",
   "execution_count": 21,
   "id": "26b97bed-525a-42aa-9060-51786333b6fb",
   "metadata": {},
   "outputs": [],
   "source": [
    "cv2.imshow(\"Orginal Image\",my_img)\n",
    "cv2.imshow(\"Vertical Image\",new_vertical_img)\n",
    "cv2.imshow(\"Horizontal Image\",new_horizontal_img)\n",
    "cv2.imshow(\"Vertical an Horizontal Image\",new_both_img)\n",
    "cv2.waitKey(0)\n",
    "cv2.destroyAllWindows()"
   ]
  },
  {
   "cell_type": "code",
   "execution_count": 39,
   "id": "1ba5db9f-e2a1-4ad6-abc5-ac051ef5b2a0",
   "metadata": {},
   "outputs": [],
   "source": [
    "my_resized_img=cv2.resize(my_img,(400,220),cv2.INTER_LANCZOS4)\n",
    "\n",
    "cv2.imshow(\"Orginal Image\",my_img)\n",
    "cv2.imshow(\"Resized Image\",my_resized_img)\n",
    "cv2.waitKey(0)\n",
    "cv2.destroyAllWindows()"
   ]
  },
  {
   "cell_type": "code",
   "execution_count": 43,
   "id": "142879eb-450a-4860-abb8-0397767dbf8f",
   "metadata": {},
   "outputs": [
    {
     "data": {
      "text/plain": [
       "True"
      ]
     },
     "execution_count": 43,
     "metadata": {},
     "output_type": "execute_result"
    }
   ],
   "source": [
    "cv2.imwrite(\"./resized_image_output.png\",my_resized_img)"
   ]
  },
  {
   "cell_type": "code",
   "execution_count": null,
   "id": "d933b345-96d1-4f77-b321-da146146fc3e",
   "metadata": {},
   "outputs": [],
   "source": []
  }
 ],
 "metadata": {
  "kernelspec": {
   "display_name": "env_ybs",
   "language": "python",
   "name": "env_ybs"
  },
  "language_info": {
   "codemirror_mode": {
    "name": "ipython",
    "version": 3
   },
   "file_extension": ".py",
   "mimetype": "text/x-python",
   "name": "python",
   "nbconvert_exporter": "python",
   "pygments_lexer": "ipython3",
   "version": "3.10.10"
  }
 },
 "nbformat": 4,
 "nbformat_minor": 5
}
