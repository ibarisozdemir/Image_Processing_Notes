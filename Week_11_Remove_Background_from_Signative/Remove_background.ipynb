{
 "cells": [
  {
   "cell_type": "code",
   "execution_count": 7,
   "id": "06f15364-298c-4e87-b9f5-5450a24ec9b1",
   "metadata": {},
   "outputs": [],
   "source": [
    "import numpy as np\n",
    "from PIL import Image"
   ]
  },
  {
   "cell_type": "code",
   "execution_count": 15,
   "id": "4106dbd1-90d5-42d7-9ce7-d2c2b460b528",
   "metadata": {},
   "outputs": [],
   "source": [
    "my_image = Image.open(\"./imag.jpg\").convert('RGB')\n",
    "\n",
    "my_image_normalize = np.array(my_image)/255.0\n",
    "\n",
    "my_image_normalize[my_image_normalize>0.5]=1\n",
    "\n",
    "my_img_uint8 = (my_image_normalize*255).astype(np.uint8)\n",
    "\n",
    "my_img_final = Image.fromarray(my_img_uint8)\n",
    "\n",
    "my_img_final.save(\"./my_modified_image_new.png\")"
   ]
  },
  {
   "cell_type": "code",
   "execution_count": null,
   "id": "08b45256-a633-4d98-a2fc-203288185bb8",
   "metadata": {},
   "outputs": [],
   "source": []
  }
 ],
 "metadata": {
  "kernelspec": {
   "display_name": "env_ybs",
   "language": "python",
   "name": "env_ybs"
  },
  "language_info": {
   "codemirror_mode": {
    "name": "ipython",
    "version": 3
   },
   "file_extension": ".py",
   "mimetype": "text/x-python",
   "name": "python",
   "nbconvert_exporter": "python",
   "pygments_lexer": "ipython3",
   "version": "3.10.10"
  }
 },
 "nbformat": 4,
 "nbformat_minor": 5
}
